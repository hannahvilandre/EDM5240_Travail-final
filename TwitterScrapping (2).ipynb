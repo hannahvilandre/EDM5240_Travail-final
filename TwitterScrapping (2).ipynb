{
 "cells": [
  {
   "cell_type": "code",
   "execution_count": 1,
   "metadata": {},
   "outputs": [],
   "source": [
    "import csv\n",
    "import json\n",
    "import twitter\n",
    "import pandas as pd\n",
    "from textblob import TextBlob\n",
    "from textblob_fr import PatternTagger, PatternAnalyzer\n",
    "import matplotlib.pyplot as plt\n",
    "import numpy as np\n",
    "import math\n",
    "from vaderSentiment.vaderSentiment import SentimentIntensityAnalyzer\n",
    "analyser = SentimentIntensityAnalyzer()\n",
    "\n",
    "consumer_key = \"XlYhjlUyXVCJPPjsIx0dyHrpi\"\n",
    "consumer_secret = \"DGA59e7I10JgXTIXwNGqUKVdQcEq6ZZGTczPaE6NmrhfD1i32k\"\n",
    "access_token_key = \"1063691900-1skzNu89srqH1rJWEb2KdcDFHUuwlm4QzuMlkbT\"\n",
    "access_token_secret = \"0kBGxT6rxfNuL2vpqYPRItiyEyEQmTS2cTuKdDwfVXgSb\"\n"
   ]
  },
  {
   "cell_type": "code",
   "execution_count": 2,
   "metadata": {},
   "outputs": [
    {
     "data": {
      "text/html": [
       "<script type=\"text/javascript\">window.PlotlyConfig = {MathJaxConfig: 'local'};</script><script type=\"text/javascript\">if (window.MathJax) {MathJax.Hub.Config({SVG: {font: \"STIX-Web\"}});}</script><script>requirejs.config({paths: { 'plotly': ['https://cdn.plot.ly/plotly-latest.min']},});if(!window._Plotly) {require(['plotly'],function(plotly) {window._Plotly=plotly;});}</script>"
      ],
      "text/vnd.plotly.v1+html": [
       "<script type=\"text/javascript\">window.PlotlyConfig = {MathJaxConfig: 'local'};</script><script type=\"text/javascript\">if (window.MathJax) {MathJax.Hub.Config({SVG: {font: \"STIX-Web\"}});}</script><script>requirejs.config({paths: { 'plotly': ['https://cdn.plot.ly/plotly-latest.min']},});if(!window._Plotly) {require(['plotly'],function(plotly) {window._Plotly=plotly;});}</script>"
      ]
     },
     "metadata": {},
     "output_type": "display_data"
    }
   ],
   "source": [
    "from plotly import __version__\n",
    "from plotly.offline import download_plotlyjs, init_notebook_mode, plot, iplot\n",
    "import plotly.graph_objs as go\n",
    "init_notebook_mode(connected=True)"
   ]
  },
  {
   "cell_type": "code",
   "execution_count": 6,
   "metadata": {},
   "outputs": [],
   "source": [
    "quebecMedia = [\"@tvanouvelles\",\"@JdeMontreal\",\"@LP_LaPresse\",\"@RadioCanadaInfo\",\"@JdeQuebec\",\"@vicequebec\",\n",
    "\"@infomantv\",\"@salutbonjour\",\"@CBCMontreal\",\"@TVASports\",\"@RDSca\",\"@icimontreal\",\"@meteomedia\",\"@CTVMontreal\",\n",
    "\"@Global_Montreal\",\"@telequebec\",\"@LaTribune\",\"@_URBANIA\",\"@HuffPostQuebec\",\"@LeDevoir\",\"@mtlgazette\",\"@iciquebec\",\n",
    "\"@cyblesoleil\",\"@Lactualite\",\"@coupdepouce_mag\",\"@la_lesaffaires\",\"@journalmetro\",\"icircpremiere\"]\n",
    "\n",
    "francemedia = [\"@Le_Figaro\",\"@lemondefr\",\"@canardenchaine\",\"@Qofficiel\", \"@20hFrance2\", \"@TF1LeJT\", \"@LCI\", \"@BFMTV\", \n",
    "              \"@CNEWS\", \"@libe\", \"@lequipe\", \"@le_Parisien\", \"@20Minutes\", \"@lobs\" ,\"@LesEchos\",\"@TV5MONDE\", \n",
    "              \"@Le_Soir3\", \"@ARTEjournal\", \"@LaTribune\", \"@franceinfo\", \"@FRANCE24\",\"@rtlinfo\",\"@Europe1\",\n",
    "              \"@RMCinfo\", \"@franceinter\",\"@francebleu\",\"@Charlie_Hebdo_\"]\n",
    "\n",
    "\n",
    "\n",
    "columns_to_keep = [\"created_at\",\"display_text_range\",\"entities\",\"favorite_count\",\"full_text\",\"retweet_count\",\"sentiment\",\"searchTerm\"]"
   ]
  },
  {
   "cell_type": "code",
   "execution_count": 7,
   "metadata": {},
   "outputs": [
    {
     "data": {
      "text/plain": [
       "27"
      ]
     },
     "execution_count": 7,
     "metadata": {},
     "output_type": "execute_result"
    }
   ],
   "source": [
    "len(francemedia)"
   ]
  },
  {
   "cell_type": "code",
   "execution_count": 3,
   "metadata": {},
   "outputs": [],
   "source": [
    "t = twitter.Api(consumer_key=consumer_key,\n",
    "    consumer_secret=consumer_secret,\n",
    "    access_token_key=access_token_key,\n",
    "    access_token_secret=access_token_secret,\n",
    "    tweet_mode=\"extended\"\n",
    "    )"
   ]
  },
  {
   "cell_type": "code",
   "execution_count": 15,
   "metadata": {},
   "outputs": [],
   "source": [
    "def tweetsSearch(searchTerm=\"\",lang=None,since=\"2019-03-10\",until=\"2019-03-18\"):\n",
    "    tweets = t.GetSearch(term = searchTerm,count = 100,return_json = True,lang=lang,since=since, until=until, result_type =\"mixed\")\n",
    "    return tweets"
   ]
  },
  {
   "cell_type": "code",
   "execution_count": 19,
   "metadata": {},
   "outputs": [],
   "source": [
    "def weekScrap(searchTerm):\n",
    "    date = \"2019-03-1\"\n",
    "    for i in range(1,8):\n",
    "        tweets = tweetsSearch(searchTerm=searchTerm,lang='fr',since=date+str(i),until=date+str(i+1))\n",
    "        if(i==1):\n",
    "            pd_tweets = pd.DataFrame(tweets[\"statuses\"])\n",
    "        else:\n",
    "            pd_tweets = pd.concat([pd_tweets,pd.DataFrame(tweets[\"statuses\"])])\n",
    "    return pd_tweets"
   ]
  },
  {
   "cell_type": "code",
   "execution_count": 70,
   "metadata": {},
   "outputs": [],
   "source": [
    "def getRTStatusId(row):\n",
    "    try:\n",
    "        if(math.isnan(row[\"retweeted_status\"])):\n",
    "            return row[\"id\"]\n",
    "    except:\n",
    "        return row[\"retweeted_status\"][\"id\"]\n",
    "\n",
    "def replaceRTFullText(row):\n",
    "    try:\n",
    "        if(math.isnan(row[\"retweeted_status\"])):\n",
    "            return row[\"full_text\"]\n",
    "    except:\n",
    "        return row['retweeted_status'][\"full_text\"]\n",
    "\n",
    "    \n",
    "def rmDuplicatedRT(df):\n",
    "    df['original_status_id'] = df.apply(lambda row: getRTStatusId(row),axis=1)    \n",
    "    df['full_text'] = df.apply(lambda row: replaceRTFullText(row),axis=1)\n",
    "    return df.drop_duplicates(subset=\"original_status_id\")"
   ]
  },
  {
   "cell_type": "code",
   "execution_count": 391,
   "metadata": {
    "scrolled": true
   },
   "outputs": [
    {
     "name": "stdout",
     "output_type": "stream",
     "text": [
      "425\n",
      "135\n"
     ]
    }
   ],
   "source": [
    "print(len(pd_tweets[\"full_text\"].values))\n",
    "pd_tweets = rmDuplicatedRT(pd_tweets)\n",
    "print(len(pd_tweets[\"full_text\"].values))"
   ]
  },
  {
   "cell_type": "code",
   "execution_count": 7,
   "metadata": {},
   "outputs": [],
   "source": [
    "def sentiment_score(sentence):\n",
    "    fr_blob = TextBlob(sentence)\n",
    "    try:\n",
    "        #translate sentence to english\n",
    "        sentence_eng = fr_blob.translate(to='eng')\n",
    "    except:\n",
    "        sentence_eng = sentence\n",
    "    #compute the polarity score -1 = negative, 1 = positive (continuous values)\n",
    "    snt = analyser.polarity_scores(sentence_eng)\n",
    "    return snt[\"compound\"]"
   ]
  },
  {
   "cell_type": "code",
   "execution_count": 8,
   "metadata": {},
   "outputs": [],
   "source": [
    "def cleanScrap(searchterm):\n",
    "    #Scrap tweets\n",
    "    pd_tweets = weekScrap(searchterm)\n",
    "    \n",
    "    #Keep one copy of retweeted tweets\n",
    "    pd_tweets = rmDuplicatedRT(pd_tweets)\n",
    "    \n",
    "    #compute the sentiment of tweets\n",
    "    pd_tweets[\"sentiment\"] = pd_tweets.apply(lambda row: sentiment_score(row[\"full_text\"]),axis=1)\n",
    "    \n",
    "    pd_tweets[\"searchTerm\"] = searchterm\n",
    "    \n",
    "    return pd_tweets\n",
    "\n",
    "def fullScrap(searchterm_list):\n",
    "    init = False\n",
    "    \n",
    "    for term in searchterm_list:\n",
    "        if(not init):\n",
    "            df_all_tweet = cleanScrap(term)\n",
    "            print(len(df_all_tweet[\"full_text\"].values))\n",
    "            init=True\n",
    "        else:\n",
    "            df_all_tweet = pd.concat([df_all_tweet,cleanScrap(term)])\n",
    "            print(len(df_all_tweet[\"full_text\"].values))\n",
    "\n",
    "    return df_all_tweet\n",
    "\n",
    "def saveToCSV(df,filePath, sep=\"|\"):\n",
    "    df[columns_to_keep].to_csv(filePath,sep=\"|\", encoding='utf-8')"
   ]
  },
  {
   "cell_type": "code",
   "execution_count": 72,
   "metadata": {},
   "outputs": [
    {
     "data": {
      "text/html": [
       "<div>\n",
       "<style scoped>\n",
       "    .dataframe tbody tr th:only-of-type {\n",
       "        vertical-align: middle;\n",
       "    }\n",
       "\n",
       "    .dataframe tbody tr th {\n",
       "        vertical-align: top;\n",
       "    }\n",
       "\n",
       "    .dataframe thead th {\n",
       "        text-align: right;\n",
       "    }\n",
       "</style>\n",
       "<table border=\"1\" class=\"dataframe\">\n",
       "  <thead>\n",
       "    <tr style=\"text-align: right;\">\n",
       "      <th></th>\n",
       "      <th>contributors</th>\n",
       "      <th>coordinates</th>\n",
       "      <th>created_at</th>\n",
       "      <th>display_text_range</th>\n",
       "      <th>entities</th>\n",
       "      <th>extended_entities</th>\n",
       "      <th>favorite_count</th>\n",
       "      <th>favorited</th>\n",
       "      <th>full_text</th>\n",
       "      <th>geo</th>\n",
       "      <th>...</th>\n",
       "      <th>quoted_status_id_str</th>\n",
       "      <th>retweet_count</th>\n",
       "      <th>retweeted</th>\n",
       "      <th>retweeted_status</th>\n",
       "      <th>source</th>\n",
       "      <th>truncated</th>\n",
       "      <th>user</th>\n",
       "      <th>original_status_id</th>\n",
       "      <th>sentiment</th>\n",
       "      <th>searchTerm</th>\n",
       "    </tr>\n",
       "  </thead>\n",
       "  <tbody>\n",
       "    <tr>\n",
       "      <th>0</th>\n",
       "      <td>None</td>\n",
       "      <td>None</td>\n",
       "      <td>Mon Mar 11 23:43:41 +0000 2019</td>\n",
       "      <td>[0, 140]</td>\n",
       "      <td>{'hashtags': [], 'symbols': [], 'user_mentions...</td>\n",
       "      <td>NaN</td>\n",
       "      <td>0</td>\n",
       "      <td>False</td>\n",
       "      <td>C’est paru en Livre de Poche! 30 femmes racont...</td>\n",
       "      <td>None</td>\n",
       "      <td>...</td>\n",
       "      <td>NaN</td>\n",
       "      <td>65</td>\n",
       "      <td>False</td>\n",
       "      <td>{'created_at': 'Mon Mar 11 14:07:10 +0000 2019...</td>\n",
       "      <td>&lt;a href=\"http://twitter.com/download/iphone\" r...</td>\n",
       "      <td>False</td>\n",
       "      <td>{'id': 892083156509216768, 'id_str': '89208315...</td>\n",
       "      <td>1105107901889302529</td>\n",
       "      <td>0.6892</td>\n",
       "      <td>@LeMonde</td>\n",
       "    </tr>\n",
       "    <tr>\n",
       "      <th>10</th>\n",
       "      <td>None</td>\n",
       "      <td>None</td>\n",
       "      <td>Mon Mar 11 21:31:09 +0000 2019</td>\n",
       "      <td>[0, 280]</td>\n",
       "      <td>{'hashtags': [], 'symbols': [], 'user_mentions...</td>\n",
       "      <td>NaN</td>\n",
       "      <td>3</td>\n",
       "      <td>False</td>\n",
       "      <td>Il n’y a pas de « normes » post fukushima mais...</td>\n",
       "      <td>None</td>\n",
       "      <td>...</td>\n",
       "      <td>NaN</td>\n",
       "      <td>2</td>\n",
       "      <td>False</td>\n",
       "      <td>NaN</td>\n",
       "      <td>&lt;a href=\"http://twitter.com/download/iphone\" r...</td>\n",
       "      <td>False</td>\n",
       "      <td>{'id': 4904726237, 'id_str': '4904726237', 'na...</td>\n",
       "      <td>1105219634217865219</td>\n",
       "      <td>-0.8807</td>\n",
       "      <td>@LeMonde</td>\n",
       "    </tr>\n",
       "    <tr>\n",
       "      <th>12</th>\n",
       "      <td>None</td>\n",
       "      <td>None</td>\n",
       "      <td>Mon Mar 11 21:17:59 +0000 2019</td>\n",
       "      <td>[0, 98]</td>\n",
       "      <td>{'hashtags': [], 'symbols': [], 'user_mentions...</td>\n",
       "      <td>NaN</td>\n",
       "      <td>0</td>\n",
       "      <td>False</td>\n",
       "      <td>@lemonde_pol \\n@lemonde \\nMourrir dans l'Obscu...</td>\n",
       "      <td>None</td>\n",
       "      <td>...</td>\n",
       "      <td>1105159080845422592</td>\n",
       "      <td>0</td>\n",
       "      <td>False</td>\n",
       "      <td>NaN</td>\n",
       "      <td>&lt;a href=\"http://twitter.com/download/android\" ...</td>\n",
       "      <td>False</td>\n",
       "      <td>{'id': 966716686182375425, 'id_str': '96671668...</td>\n",
       "      <td>1105216319023124483</td>\n",
       "      <td>-0.7096</td>\n",
       "      <td>@LeMonde</td>\n",
       "    </tr>\n",
       "    <tr>\n",
       "      <th>28</th>\n",
       "      <td>None</td>\n",
       "      <td>None</td>\n",
       "      <td>Mon Mar 11 16:39:21 +0000 2019</td>\n",
       "      <td>[0, 140]</td>\n",
       "      <td>{'hashtags': [{'text': 'AutreAffaireDuSiècle',...</td>\n",
       "      <td>NaN</td>\n",
       "      <td>0</td>\n",
       "      <td>False</td>\n",
       "      <td>#AutreAffaireDuSiècle: les multinationales (et...</td>\n",
       "      <td>None</td>\n",
       "      <td>...</td>\n",
       "      <td>NaN</td>\n",
       "      <td>15</td>\n",
       "      <td>False</td>\n",
       "      <td>{'created_at': 'Mon Mar 11 08:56:12 +0000 2019...</td>\n",
       "      <td>&lt;a href=\"http://twitter.com\" rel=\"nofollow\"&gt;Tw...</td>\n",
       "      <td>False</td>\n",
       "      <td>{'id': 187096235, 'id_str': '187096235', 'name...</td>\n",
       "      <td>1105029644003274752</td>\n",
       "      <td>0.5859</td>\n",
       "      <td>@LeMonde</td>\n",
       "    </tr>\n",
       "    <tr>\n",
       "      <th>31</th>\n",
       "      <td>None</td>\n",
       "      <td>None</td>\n",
       "      <td>Mon Mar 11 16:29:14 +0000 2019</td>\n",
       "      <td>[0, 162]</td>\n",
       "      <td>{'hashtags': [], 'symbols': [], 'user_mentions...</td>\n",
       "      <td>NaN</td>\n",
       "      <td>0</td>\n",
       "      <td>False</td>\n",
       "      <td>le calendrier initial n'était pas tenable\", a ...</td>\n",
       "      <td>None</td>\n",
       "      <td>...</td>\n",
       "      <td>NaN</td>\n",
       "      <td>0</td>\n",
       "      <td>False</td>\n",
       "      <td>NaN</td>\n",
       "      <td>&lt;a href=\"http://twitter.com\" rel=\"nofollow\"&gt;Tw...</td>\n",
       "      <td>False</td>\n",
       "      <td>{'id': 1460092549, 'id_str': '1460092549', 'na...</td>\n",
       "      <td>1105143656468660225</td>\n",
       "      <td>-0.4588</td>\n",
       "      <td>@LeMonde</td>\n",
       "    </tr>\n",
       "  </tbody>\n",
       "</table>\n",
       "<p>5 rows × 34 columns</p>\n",
       "</div>"
      ],
      "text/plain": [
       "   contributors coordinates                      created_at  \\\n",
       "0          None        None  Mon Mar 11 23:43:41 +0000 2019   \n",
       "10         None        None  Mon Mar 11 21:31:09 +0000 2019   \n",
       "12         None        None  Mon Mar 11 21:17:59 +0000 2019   \n",
       "28         None        None  Mon Mar 11 16:39:21 +0000 2019   \n",
       "31         None        None  Mon Mar 11 16:29:14 +0000 2019   \n",
       "\n",
       "   display_text_range                                           entities  \\\n",
       "0            [0, 140]  {'hashtags': [], 'symbols': [], 'user_mentions...   \n",
       "10           [0, 280]  {'hashtags': [], 'symbols': [], 'user_mentions...   \n",
       "12            [0, 98]  {'hashtags': [], 'symbols': [], 'user_mentions...   \n",
       "28           [0, 140]  {'hashtags': [{'text': 'AutreAffaireDuSiècle',...   \n",
       "31           [0, 162]  {'hashtags': [], 'symbols': [], 'user_mentions...   \n",
       "\n",
       "   extended_entities  favorite_count  favorited  \\\n",
       "0                NaN               0      False   \n",
       "10               NaN               3      False   \n",
       "12               NaN               0      False   \n",
       "28               NaN               0      False   \n",
       "31               NaN               0      False   \n",
       "\n",
       "                                            full_text   geo    ...      \\\n",
       "0   C’est paru en Livre de Poche! 30 femmes racont...  None    ...       \n",
       "10  Il n’y a pas de « normes » post fukushima mais...  None    ...       \n",
       "12  @lemonde_pol \\n@lemonde \\nMourrir dans l'Obscu...  None    ...       \n",
       "28  #AutreAffaireDuSiècle: les multinationales (et...  None    ...       \n",
       "31  le calendrier initial n'était pas tenable\", a ...  None    ...       \n",
       "\n",
       "    quoted_status_id_str retweet_count retweeted  \\\n",
       "0                    NaN            65     False   \n",
       "10                   NaN             2     False   \n",
       "12   1105159080845422592             0     False   \n",
       "28                   NaN            15     False   \n",
       "31                   NaN             0     False   \n",
       "\n",
       "                                     retweeted_status  \\\n",
       "0   {'created_at': 'Mon Mar 11 14:07:10 +0000 2019...   \n",
       "10                                                NaN   \n",
       "12                                                NaN   \n",
       "28  {'created_at': 'Mon Mar 11 08:56:12 +0000 2019...   \n",
       "31                                                NaN   \n",
       "\n",
       "                                               source  truncated  \\\n",
       "0   <a href=\"http://twitter.com/download/iphone\" r...      False   \n",
       "10  <a href=\"http://twitter.com/download/iphone\" r...      False   \n",
       "12  <a href=\"http://twitter.com/download/android\" ...      False   \n",
       "28  <a href=\"http://twitter.com\" rel=\"nofollow\">Tw...      False   \n",
       "31  <a href=\"http://twitter.com\" rel=\"nofollow\">Tw...      False   \n",
       "\n",
       "                                                 user   original_status_id  \\\n",
       "0   {'id': 892083156509216768, 'id_str': '89208315...  1105107901889302529   \n",
       "10  {'id': 4904726237, 'id_str': '4904726237', 'na...  1105219634217865219   \n",
       "12  {'id': 966716686182375425, 'id_str': '96671668...  1105216319023124483   \n",
       "28  {'id': 187096235, 'id_str': '187096235', 'name...  1105029644003274752   \n",
       "31  {'id': 1460092549, 'id_str': '1460092549', 'na...  1105143656468660225   \n",
       "\n",
       "   sentiment searchTerm  \n",
       "0     0.6892   @LeMonde  \n",
       "10   -0.8807   @LeMonde  \n",
       "12   -0.7096   @LeMonde  \n",
       "28    0.5859   @LeMonde  \n",
       "31   -0.4588   @LeMonde  \n",
       "\n",
       "[5 rows x 34 columns]"
      ]
     },
     "execution_count": 72,
     "metadata": {},
     "output_type": "execute_result"
    }
   ],
   "source": [
    "pd_tweets = cleanScrap(\"@LeMonde\")\n",
    "pd_tweets.head()"
   ]
  },
  {
   "cell_type": "code",
   "execution_count": 440,
   "metadata": {},
   "outputs": [],
   "source": [
    "df_quebec = fullScrap(quebecMedia)\n",
    "saveToCSV(df_quebec,\"QuebecMedia\")"
   ]
  },
  {
   "cell_type": "code",
   "execution_count": 22,
   "metadata": {},
   "outputs": [
    {
     "name": "stdout",
     "output_type": "stream",
     "text": [
      "108\n"
     ]
    }
   ],
   "source": [
    "df_monde = fullScrap([\"@LeMonde\"])"
   ]
  },
  {
   "cell_type": "code",
   "execution_count": 75,
   "metadata": {
    "scrolled": false
   },
   "outputs": [
    {
     "data": {
      "application/vnd.plotly.v1+json": {
       "config": {
        "linkText": "Export to plot.ly",
        "plotlyServerURL": "https://plot.ly",
        "showLink": false
       },
       "data": [
        {
         "type": "histogram",
         "uid": "88d32f14-95ab-48ec-ac7e-8846fc61abd1",
         "x": [
          0.6892,
          -0.8807,
          -0.7096,
          0.5859,
          -0.4588,
          -0.6249,
          -0.5859,
          0.5106,
          -0.6369,
          -0.7506,
          -0.2057,
          0.4767,
          -0.6497,
          -0.6597,
          0.7964,
          -0.0772,
          -0.2123,
          0.8979,
          0.1378,
          0.5994,
          0,
          -0.296,
          0.6249,
          0.6249,
          0.6249,
          0.3491,
          0.5574,
          -0.296,
          0.8693,
          0,
          -0.34,
          -0.3147,
          0.5983,
          0.0516,
          0.8331,
          -0.5946,
          -0.0364,
          0,
          -0.1027,
          -0.1027,
          -0.6249,
          0,
          0.5719,
          0,
          0.368,
          0.296,
          0.4019,
          0.7269,
          0,
          0,
          0.8074,
          -0.0644,
          -0.2023,
          -0.5719,
          -0.8225,
          0.0772,
          -0.088,
          0,
          -0.34,
          -0.34,
          0.2263,
          0.5719,
          0.3612,
          0.2263,
          0,
          0.3802,
          -0.0516,
          0.4019,
          0,
          0.6526,
          0,
          -0.4939,
          0.6249,
          -0.8481,
          -0.952,
          -0.2168,
          0,
          0,
          -0.3182,
          0,
          0,
          -0.2263,
          0,
          -0.5919,
          0,
          0.9215,
          0.8777,
          -0.3182,
          -0.4215,
          0.7088,
          0.5859,
          -0.5423,
          -0.2263,
          0.4588,
          -0.1531,
          -0.8316,
          0.0258,
          0,
          0,
          -0.089,
          0,
          0,
          0,
          -0.4678,
          0.8576,
          0,
          0,
          -0.4019
         ]
        }
       ],
       "layout": {}
      },
      "text/html": [
       "<div id=\"1d9f0775-58ce-481e-b4f0-21864ce13f5c\" style=\"height: 525px; width: 100%;\" class=\"plotly-graph-div\"></div><script type=\"text/javascript\">require([\"plotly\"], function(Plotly) { window.PLOTLYENV=window.PLOTLYENV || {};window.PLOTLYENV.BASE_URL=\"https://plot.ly\";Plotly.newPlot(\"1d9f0775-58ce-481e-b4f0-21864ce13f5c\", [{\"x\": [0.6892, -0.8807, -0.7096, 0.5859, -0.4588, -0.6249, -0.5859, 0.5106, -0.6369, -0.7506, -0.2057, 0.4767, -0.6497, -0.6597, 0.7964, -0.0772, -0.2123, 0.8979, 0.1378, 0.5994, 0.0, -0.296, 0.6249, 0.6249, 0.6249, 0.3491, 0.5574, -0.296, 0.8693, 0.0, -0.34, -0.3147, 0.5983, 0.0516, 0.8331, -0.5946, -0.0364, 0.0, -0.1027, -0.1027, -0.6249, 0.0, 0.5719, 0.0, 0.368, 0.296, 0.4019, 0.7269, 0.0, 0.0, 0.8074, -0.0644, -0.2023, -0.5719, -0.8225, 0.0772, -0.088, 0.0, -0.34, -0.34, 0.2263, 0.5719, 0.3612, 0.2263, 0.0, 0.3802, -0.0516, 0.4019, 0.0, 0.6526, -0.0, -0.4939, 0.6249, -0.8481, -0.952, -0.2168, 0.0, 0.0, -0.3182, 0.0, 0.0, -0.2263, 0.0, -0.5919, 0.0, 0.9215, 0.8777, -0.3182, -0.4215, 0.7088, 0.5859, -0.5423, -0.2263, 0.4588, -0.1531, -0.8316, 0.0258, 0.0, 0.0, -0.089, 0.0, 0.0, 0.0, -0.4678, 0.8576, 0.0, 0.0, -0.4019], \"type\": \"histogram\", \"uid\": \"e9c15961-0e75-473d-b50c-01c745afcd86\"}], {}, {\"showLink\": false, \"linkText\": \"Export to plot.ly\", \"plotlyServerURL\": \"https://plot.ly\"})});</script><script type=\"text/javascript\">window.addEventListener(\"resize\", function(){window._Plotly.Plots.resize(document.getElementById(\"1d9f0775-58ce-481e-b4f0-21864ce13f5c\"));});</script>"
      ],
      "text/vnd.plotly.v1+html": [
       "<div id=\"1d9f0775-58ce-481e-b4f0-21864ce13f5c\" style=\"height: 525px; width: 100%;\" class=\"plotly-graph-div\"></div><script type=\"text/javascript\">require([\"plotly\"], function(Plotly) { window.PLOTLYENV=window.PLOTLYENV || {};window.PLOTLYENV.BASE_URL=\"https://plot.ly\";Plotly.newPlot(\"1d9f0775-58ce-481e-b4f0-21864ce13f5c\", [{\"x\": [0.6892, -0.8807, -0.7096, 0.5859, -0.4588, -0.6249, -0.5859, 0.5106, -0.6369, -0.7506, -0.2057, 0.4767, -0.6497, -0.6597, 0.7964, -0.0772, -0.2123, 0.8979, 0.1378, 0.5994, 0.0, -0.296, 0.6249, 0.6249, 0.6249, 0.3491, 0.5574, -0.296, 0.8693, 0.0, -0.34, -0.3147, 0.5983, 0.0516, 0.8331, -0.5946, -0.0364, 0.0, -0.1027, -0.1027, -0.6249, 0.0, 0.5719, 0.0, 0.368, 0.296, 0.4019, 0.7269, 0.0, 0.0, 0.8074, -0.0644, -0.2023, -0.5719, -0.8225, 0.0772, -0.088, 0.0, -0.34, -0.34, 0.2263, 0.5719, 0.3612, 0.2263, 0.0, 0.3802, -0.0516, 0.4019, 0.0, 0.6526, -0.0, -0.4939, 0.6249, -0.8481, -0.952, -0.2168, 0.0, 0.0, -0.3182, 0.0, 0.0, -0.2263, 0.0, -0.5919, 0.0, 0.9215, 0.8777, -0.3182, -0.4215, 0.7088, 0.5859, -0.5423, -0.2263, 0.4588, -0.1531, -0.8316, 0.0258, 0.0, 0.0, -0.089, 0.0, 0.0, 0.0, -0.4678, 0.8576, 0.0, 0.0, -0.4019], \"type\": \"histogram\", \"uid\": \"e9c15961-0e75-473d-b50c-01c745afcd86\"}], {}, {\"showLink\": false, \"linkText\": \"Export to plot.ly\", \"plotlyServerURL\": \"https://plot.ly\"})});</script><script type=\"text/javascript\">window.addEventListener(\"resize\", function(){window._Plotly.Plots.resize(document.getElementById(\"1d9f0775-58ce-481e-b4f0-21864ce13f5c\"));});</script>"
      ]
     },
     "metadata": {},
     "output_type": "display_data"
    }
   ],
   "source": [
    "data = [go.Histogram(x=pd_tweets[\"sentiment\"])]\n",
    "iplot(data)"
   ]
  },
  {
   "cell_type": "code",
   "execution_count": 70,
   "metadata": {},
   "outputs": [
    {
     "name": "stdout",
     "output_type": "stream",
     "text": [
      "100\n"
     ]
    },
    {
     "data": {
      "text/plain": [
       "Index(['contributors', 'coordinates', 'created_at', 'display_text_range',\n",
       "       'entities', 'extended_entities', 'favorite_count', 'favorited',\n",
       "       'full_text', 'geo', 'id', 'id_str', 'in_reply_to_screen_name',\n",
       "       'in_reply_to_status_id', 'in_reply_to_status_id_str',\n",
       "       'in_reply_to_user_id', 'in_reply_to_user_id_str', 'is_quote_status',\n",
       "       'lang', 'metadata', 'place', 'possibly_sensitive', 'quoted_status',\n",
       "       'quoted_status_id', 'quoted_status_id_str', 'retweet_count',\n",
       "       'retweeted', 'retweeted_status', 'source', 'truncated', 'user'],\n",
       "      dtype='object')"
      ]
     },
     "execution_count": 70,
     "metadata": {},
     "output_type": "execute_result"
    }
   ],
   "source": [
    "print(len(pd_tweets))\n",
    "pd_tweets.columns"
   ]
  },
  {
   "cell_type": "code",
   "execution_count": 3,
   "metadata": {},
   "outputs": [],
   "source": [
    "from nbconvert import HTMLExporter\n",
    "import codecs\n",
    "import nbformat\n",
    "exporter = HTMLExporter()\n",
    "output_notebook = nbformat.read('TwitterScrapping.ipynb', as_version=4)\n",
    "output, resources = exporter.from_notebook_node(output_notebook)\n",
    "codecs.open('TwitterScrapping.html', 'w', encoding='utf-8').write(output)"
   ]
  }
 ],
 "metadata": {
  "kernelspec": {
   "display_name": "Python 3",
   "language": "python",
   "name": "python3"
  },
  "language_info": {
   "codemirror_mode": {
    "name": "ipython",
    "version": 3
   },
   "file_extension": ".py",
   "mimetype": "text/x-python",
   "name": "python",
   "nbconvert_exporter": "python",
   "pygments_lexer": "ipython3",
   "version": "3.6.4"
  }
 },
 "nbformat": 4,
 "nbformat_minor": 2
}
